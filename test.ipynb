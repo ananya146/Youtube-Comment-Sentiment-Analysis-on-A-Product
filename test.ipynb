{
 "cells": [
  {
   "cell_type": "code",
   "execution_count": null,
   "metadata": {},
   "outputs": [],
   "source": [
    "# Load the saved model and vectorizer\n",
    "loaded_model = joblib.load(model_filename)\n",
    "loaded_vectorizer = joblib.load(vectorizer_filename)\n",
    "\n",
    "print(\"Model and vectorizer loaded successfully\")\n"
   ]
  },
  {
   "cell_type": "code",
   "execution_count": null,
   "metadata": {},
   "outputs": [],
   "source": [
    "def predict_sentiment(comment):\n",
    "    # Preprocess the comment using the loaded vectorizer\n",
    "    X_new = loaded_vectorizer.transform([comment])\n",
    "    \n",
    "    # Predict the sentiment using the loaded model\n",
    "    sentiment = loaded_model.predict(X_new)\n",
    "    \n",
    "    return sentiment[0]\n",
    "\n",
    "# Example usage\n",
    "new_comment = \"This product is amazing! It exceeded my expectations.\"\n",
    "predicted_sentiment = predict_sentiment(new_comment)\n",
    "print(f\"Predicted Sentiment: {predicted_sentiment}\")\n"
   ]
  },
  {
   "cell_type": "code",
   "execution_count": 2,
   "metadata": {},
   "outputs": [
    {
     "data": {
      "text/plain": [
       "'SOME SAMPLE TO TEST\\n\"I love this product! It\\'s exactly what I needed.\"\\n\"The quality of this item is terrible. I\\'m very disappointed.\"\\n\"This is an average product. It works okay, but nothing special.\"\\n\"Highly recommend this! Great value for the price.\"\\n\"I had a bad experience with the customer service. Would not buy again.\"\\n\"The design and features of this product are amazing.\"\\n\"Not worth the money. Very poor performance.\"\\n\"I\\'m extremely satisfied with my purchase.\"\\n\"The product arrived damaged and the packaging was awful.\"\\n\"Exceeded my expectations! Will definitely buy again.\"\\n\"The material feels cheap and it broke within a week.\"\\n\"Fantastic product! Five stars.\"\\n'"
      ]
     },
     "execution_count": 2,
     "metadata": {},
     "output_type": "execute_result"
    }
   ],
   "source": [
    "\"\"\"SOME SAMPLE TO TEST\n",
    "\"I love this product! It's exactly what I needed.\"\n",
    "\"The quality of this item is terrible. I'm very disappointed.\"\n",
    "\"This is an average product. It works okay, but nothing special.\"\n",
    "\"Highly recommend this! Great value for the price.\"\n",
    "\"I had a bad experience with the customer service. Would not buy again.\"\n",
    "\"The design and features of this product are amazing.\"\n",
    "\"Not worth the money. Very poor performance.\"\n",
    "\"I'm extremely satisfied with my purchase.\"\n",
    "\"The product arrived damaged and the packaging was awful.\"\n",
    "\"Exceeded my expectations! Will definitely buy again.\"\n",
    "\"The material feels cheap and it broke within a week.\"\n",
    "\"Fantastic product! Five stars.\"\n",
    "\"\"\""
   ]
  }
 ],
 "metadata": {
  "kernelspec": {
   "display_name": "Python 3",
   "language": "python",
   "name": "python3"
  },
  "language_info": {
   "codemirror_mode": {
    "name": "ipython",
    "version": 3
   },
   "file_extension": ".py",
   "mimetype": "text/x-python",
   "name": "python",
   "nbconvert_exporter": "python",
   "pygments_lexer": "ipython3",
   "version": "3.12.4"
  }
 },
 "nbformat": 4,
 "nbformat_minor": 2
}
