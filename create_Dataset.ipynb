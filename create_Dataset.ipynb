{
 "cells": [
  {
   "cell_type": "code",
   "execution_count": null,
   "metadata": {},
   "outputs": [],
   "source": [
    "import pandas as pd\n",
    "\n",
    "# Load the YouTube comments dataset\n",
    "df = pd.read_csv('youtube_comments.csv')\n",
    "\n",
    "# Display the first few rows of the dataset\n",
    "print(df.head())\n"
   ]
  },
  {
   "cell_type": "code",
   "execution_count": null,
   "metadata": {},
   "outputs": [],
   "source": [
    "# Define keywords related to products\n",
    "product_keywords = [\n",
    "    'product', 'item', 'purchase', 'buy', 'bought', 'quality', 'price', 'feature', 'recommend',\n",
    "    'review', 'feedback', 'star', 'rating', 'experience', 'warranty', 'return',\n",
    "    'refund', 'exchange', 'defective', 'durable', 'brand', 'model', 'version', 'style', 'design',\n",
    "    'material', 'function', 'performance', 'value', 'cost', 'cheap', 'expensive', 'deal', 'discount',\n",
    "    'offer', 'shipment', 'delivery', 'packaging', 'customer service', 'support', 'service', 'use',\n",
    "    'installation', 'setup', 'unboxing', 'original', 'duplicate', 'authentic', 'fake', 'genuine',\n",
    "    'satisfaction', 'happy', 'unhappy', 'complaint', 'issue', 'problem', 'solution', 'benefit',\n",
    "    'advantage', 'disadvantage', 'pros', 'cons', 'recommendation', 'suggestion', 'comparison', 'better', 'best', 'worse', 'worst'\n",
    "]\n",
    "\n",
    "\n",
    "# Function to check if a comment is product-related\n",
    "def is_product_related(comment):\n",
    "    for keyword in product_keywords:\n",
    "        if keyword in comment.lower():\n",
    "            return True\n",
    "    return False\n",
    "\n",
    "# Filter comments that are product-related\n",
    "product_related_comments = df[df['comment'].apply(is_product_related)]\n",
    "\n",
    "# Display the first few rows of the filtered dataset\n",
    "print(product_related_comments.head())\n"
   ]
  },
  {
   "cell_type": "code",
   "execution_count": null,
   "metadata": {},
   "outputs": [],
   "source": [
    "# Save the filtered product-related comments to a new CSV file\n",
    "product_related_comments.to_csv('product_reviews.csv', index=False)\n",
    "\n",
    "print(\"Filtered dataset saved to 'product_reviews.csv'\")\n"
   ]
  },
  {
   "cell_type": "code",
   "execution_count": null,
   "metadata": {},
   "outputs": [],
   "source": [
    "# Load the new product reviews dataset\n",
    "new_df = pd.read_csv('product_reviews.csv')\n",
    "\n",
    "# Display the first few rows of the new dataset\n",
    "print(new_df.head())\n"
   ]
  },
  {
   "cell_type": "code",
   "execution_count": null,
   "metadata": {},
   "outputs": [],
   "source": []
  }
 ],
 "metadata": {
  "kernelspec": {
   "display_name": "Python 3",
   "language": "python",
   "name": "python3"
  },
  "language_info": {
   "codemirror_mode": {
    "name": "ipython",
    "version": 3
   },
   "file_extension": ".py",
   "mimetype": "text/x-python",
   "name": "python",
   "nbconvert_exporter": "python",
   "pygments_lexer": "ipython3",
   "version": "3.12.4"
  }
 },
 "nbformat": 4,
 "nbformat_minor": 2
}
